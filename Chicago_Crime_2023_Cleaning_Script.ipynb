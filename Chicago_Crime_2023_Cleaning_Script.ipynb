{
  "nbformat": 4,
  "nbformat_minor": 0,
  "metadata": {
    "colab": {
      "provenance": []
    },
    "kernelspec": {
      "name": "python3",
      "display_name": "Python 3"
    },
    "language_info": {
      "name": "python"
    }
  },
  "cells": [
    {
      "cell_type": "code",
      "execution_count": null,
      "metadata": {
        "id": "nhiCaLfYRfG5"
      },
      "outputs": [],
      "source": [
        "import pandas as pd"
      ]
    },
    {
      "cell_type": "code",
      "source": [
        "# upload the file into colab first mate!\n",
        "# https://data.cityofchicago.org/Public-Safety/Crimes-2001-to-Present/ijzp-q8t2 dataset site\n",
        "# https://data.cityofchicago.org/Public-Safety/Crimes-2023/xguy-4ndq/about_data this is the specific dataset site (only for 2023)\n",
        "df1 = pd.read_csv('Chicago crimes 2023.csv')"
      ],
      "metadata": {
        "id": "ycXO_0Cwak1M"
      },
      "execution_count": null,
      "outputs": []
    },
    {
      "cell_type": "code",
      "source": [
        "df1.columns\n",
        "df1.head(5)"
      ],
      "metadata": {
        "colab": {
          "base_uri": "https://localhost:8080/",
          "height": 481
        },
        "id": "ICW3MbRwaqoV",
        "outputId": "17f59859-99e7-49ef-a671-90e2590af90d"
      },
      "execution_count": null,
      "outputs": [
        {
          "output_type": "execute_result",
          "data": {
            "text/plain": [
              "         ID Case Number                    Date                 Block  IUCR  \\\n",
              "0  13203321    JG415333  09/06/2023 05:00:00 PM      002XX N Wells st  1320   \n",
              "1  13210088    JG423627  08/31/2023 12:00:00 PM  023XX W JACKSON BLVD  1153   \n",
              "2  13210004    JG422532  07/24/2023 09:45:00 PM  073XX S JEFFERY BLVD  0281   \n",
              "3  13210062    JG423596  08/27/2023 07:00:00 AM  034XX N LAWNDALE AVE  0820   \n",
              "4  13210107    JG411849  09/04/2023 09:30:00 PM     053XX S HOMAN AVE  1310   \n",
              "\n",
              "              Primary Type                          Description  \\\n",
              "0          CRIMINAL DAMAGE                           TO VEHICLE   \n",
              "1       DECEPTIVE PRACTICE  FINANCIAL IDENTITY THEFT OVER $ 300   \n",
              "2  CRIMINAL SEXUAL ASSAULT                       NON-AGGRAVATED   \n",
              "3                    THEFT                       $500 AND UNDER   \n",
              "4          CRIMINAL DAMAGE                          TO PROPERTY   \n",
              "\n",
              "                     Location Description  Arrest  Domestic  ...  Ward  \\\n",
              "0  PARKING LOT / GARAGE (NON RESIDENTIAL)   False     False  ...  42.0   \n",
              "1                                  STREET   False     False  ...  27.0   \n",
              "2                               APARTMENT   False     False  ...   7.0   \n",
              "3                               APARTMENT   False     False  ...  30.0   \n",
              "4                      RESIDENCE - GARAGE   False     False  ...  14.0   \n",
              "\n",
              "   Community Area  FBI Code  X Coordinate Y Coordinate  Year  \\\n",
              "0              32        14     1174694.0    1901831.0  2023   \n",
              "1              28        11     1160870.0    1898642.0  2023   \n",
              "2              43        02     1190812.0    1856743.0  2023   \n",
              "3              21        06     1151117.0    1922554.0  2023   \n",
              "4              63        14     1154617.0    1869046.0  2023   \n",
              "\n",
              "               Updated On   Latitude  Longitude                       Location  \n",
              "0  11/04/2023 03:40:18 PM  41.886018 -87.633938  (41.886018055, -87.633937881)  \n",
              "1  09/16/2023 03:41:56 PM  41.877565 -87.684791   (41.877565108, -87.68479102)  \n",
              "2  09/16/2023 03:41:56 PM  41.761919 -87.576209    (41.7619185, -87.576209245)  \n",
              "3  09/16/2023 03:41:56 PM  41.943379 -87.719974    (41.943378528, -87.7199738)  \n",
              "4  09/16/2023 03:41:56 PM  41.796477 -87.708541  (41.796477414, -87.708540915)  \n",
              "\n",
              "[5 rows x 22 columns]"
            ],
            "text/html": [
              "\n",
              "  <div id=\"df-d46819f1-ee13-4f1d-87ff-85c47f5395a2\" class=\"colab-df-container\">\n",
              "    <div>\n",
              "<style scoped>\n",
              "    .dataframe tbody tr th:only-of-type {\n",
              "        vertical-align: middle;\n",
              "    }\n",
              "\n",
              "    .dataframe tbody tr th {\n",
              "        vertical-align: top;\n",
              "    }\n",
              "\n",
              "    .dataframe thead th {\n",
              "        text-align: right;\n",
              "    }\n",
              "</style>\n",
              "<table border=\"1\" class=\"dataframe\">\n",
              "  <thead>\n",
              "    <tr style=\"text-align: right;\">\n",
              "      <th></th>\n",
              "      <th>ID</th>\n",
              "      <th>Case Number</th>\n",
              "      <th>Date</th>\n",
              "      <th>Block</th>\n",
              "      <th>IUCR</th>\n",
              "      <th>Primary Type</th>\n",
              "      <th>Description</th>\n",
              "      <th>Location Description</th>\n",
              "      <th>Arrest</th>\n",
              "      <th>Domestic</th>\n",
              "      <th>...</th>\n",
              "      <th>Ward</th>\n",
              "      <th>Community Area</th>\n",
              "      <th>FBI Code</th>\n",
              "      <th>X Coordinate</th>\n",
              "      <th>Y Coordinate</th>\n",
              "      <th>Year</th>\n",
              "      <th>Updated On</th>\n",
              "      <th>Latitude</th>\n",
              "      <th>Longitude</th>\n",
              "      <th>Location</th>\n",
              "    </tr>\n",
              "  </thead>\n",
              "  <tbody>\n",
              "    <tr>\n",
              "      <th>0</th>\n",
              "      <td>13203321</td>\n",
              "      <td>JG415333</td>\n",
              "      <td>09/06/2023 05:00:00 PM</td>\n",
              "      <td>002XX N Wells st</td>\n",
              "      <td>1320</td>\n",
              "      <td>CRIMINAL DAMAGE</td>\n",
              "      <td>TO VEHICLE</td>\n",
              "      <td>PARKING LOT / GARAGE (NON RESIDENTIAL)</td>\n",
              "      <td>False</td>\n",
              "      <td>False</td>\n",
              "      <td>...</td>\n",
              "      <td>42.0</td>\n",
              "      <td>32</td>\n",
              "      <td>14</td>\n",
              "      <td>1174694.0</td>\n",
              "      <td>1901831.0</td>\n",
              "      <td>2023</td>\n",
              "      <td>11/04/2023 03:40:18 PM</td>\n",
              "      <td>41.886018</td>\n",
              "      <td>-87.633938</td>\n",
              "      <td>(41.886018055, -87.633937881)</td>\n",
              "    </tr>\n",
              "    <tr>\n",
              "      <th>1</th>\n",
              "      <td>13210088</td>\n",
              "      <td>JG423627</td>\n",
              "      <td>08/31/2023 12:00:00 PM</td>\n",
              "      <td>023XX W JACKSON BLVD</td>\n",
              "      <td>1153</td>\n",
              "      <td>DECEPTIVE PRACTICE</td>\n",
              "      <td>FINANCIAL IDENTITY THEFT OVER $ 300</td>\n",
              "      <td>STREET</td>\n",
              "      <td>False</td>\n",
              "      <td>False</td>\n",
              "      <td>...</td>\n",
              "      <td>27.0</td>\n",
              "      <td>28</td>\n",
              "      <td>11</td>\n",
              "      <td>1160870.0</td>\n",
              "      <td>1898642.0</td>\n",
              "      <td>2023</td>\n",
              "      <td>09/16/2023 03:41:56 PM</td>\n",
              "      <td>41.877565</td>\n",
              "      <td>-87.684791</td>\n",
              "      <td>(41.877565108, -87.68479102)</td>\n",
              "    </tr>\n",
              "    <tr>\n",
              "      <th>2</th>\n",
              "      <td>13210004</td>\n",
              "      <td>JG422532</td>\n",
              "      <td>07/24/2023 09:45:00 PM</td>\n",
              "      <td>073XX S JEFFERY BLVD</td>\n",
              "      <td>0281</td>\n",
              "      <td>CRIMINAL SEXUAL ASSAULT</td>\n",
              "      <td>NON-AGGRAVATED</td>\n",
              "      <td>APARTMENT</td>\n",
              "      <td>False</td>\n",
              "      <td>False</td>\n",
              "      <td>...</td>\n",
              "      <td>7.0</td>\n",
              "      <td>43</td>\n",
              "      <td>02</td>\n",
              "      <td>1190812.0</td>\n",
              "      <td>1856743.0</td>\n",
              "      <td>2023</td>\n",
              "      <td>09/16/2023 03:41:56 PM</td>\n",
              "      <td>41.761919</td>\n",
              "      <td>-87.576209</td>\n",
              "      <td>(41.7619185, -87.576209245)</td>\n",
              "    </tr>\n",
              "    <tr>\n",
              "      <th>3</th>\n",
              "      <td>13210062</td>\n",
              "      <td>JG423596</td>\n",
              "      <td>08/27/2023 07:00:00 AM</td>\n",
              "      <td>034XX N LAWNDALE AVE</td>\n",
              "      <td>0820</td>\n",
              "      <td>THEFT</td>\n",
              "      <td>$500 AND UNDER</td>\n",
              "      <td>APARTMENT</td>\n",
              "      <td>False</td>\n",
              "      <td>False</td>\n",
              "      <td>...</td>\n",
              "      <td>30.0</td>\n",
              "      <td>21</td>\n",
              "      <td>06</td>\n",
              "      <td>1151117.0</td>\n",
              "      <td>1922554.0</td>\n",
              "      <td>2023</td>\n",
              "      <td>09/16/2023 03:41:56 PM</td>\n",
              "      <td>41.943379</td>\n",
              "      <td>-87.719974</td>\n",
              "      <td>(41.943378528, -87.7199738)</td>\n",
              "    </tr>\n",
              "    <tr>\n",
              "      <th>4</th>\n",
              "      <td>13210107</td>\n",
              "      <td>JG411849</td>\n",
              "      <td>09/04/2023 09:30:00 PM</td>\n",
              "      <td>053XX S HOMAN AVE</td>\n",
              "      <td>1310</td>\n",
              "      <td>CRIMINAL DAMAGE</td>\n",
              "      <td>TO PROPERTY</td>\n",
              "      <td>RESIDENCE - GARAGE</td>\n",
              "      <td>False</td>\n",
              "      <td>False</td>\n",
              "      <td>...</td>\n",
              "      <td>14.0</td>\n",
              "      <td>63</td>\n",
              "      <td>14</td>\n",
              "      <td>1154617.0</td>\n",
              "      <td>1869046.0</td>\n",
              "      <td>2023</td>\n",
              "      <td>09/16/2023 03:41:56 PM</td>\n",
              "      <td>41.796477</td>\n",
              "      <td>-87.708541</td>\n",
              "      <td>(41.796477414, -87.708540915)</td>\n",
              "    </tr>\n",
              "  </tbody>\n",
              "</table>\n",
              "<p>5 rows × 22 columns</p>\n",
              "</div>\n",
              "    <div class=\"colab-df-buttons\">\n",
              "\n",
              "  <div class=\"colab-df-container\">\n",
              "    <button class=\"colab-df-convert\" onclick=\"convertToInteractive('df-d46819f1-ee13-4f1d-87ff-85c47f5395a2')\"\n",
              "            title=\"Convert this dataframe to an interactive table.\"\n",
              "            style=\"display:none;\">\n",
              "\n",
              "  <svg xmlns=\"http://www.w3.org/2000/svg\" height=\"24px\" viewBox=\"0 -960 960 960\">\n",
              "    <path d=\"M120-120v-720h720v720H120Zm60-500h600v-160H180v160Zm220 220h160v-160H400v160Zm0 220h160v-160H400v160ZM180-400h160v-160H180v160Zm440 0h160v-160H620v160ZM180-180h160v-160H180v160Zm440 0h160v-160H620v160Z\"/>\n",
              "  </svg>\n",
              "    </button>\n",
              "\n",
              "  <style>\n",
              "    .colab-df-container {\n",
              "      display:flex;\n",
              "      gap: 12px;\n",
              "    }\n",
              "\n",
              "    .colab-df-convert {\n",
              "      background-color: #E8F0FE;\n",
              "      border: none;\n",
              "      border-radius: 50%;\n",
              "      cursor: pointer;\n",
              "      display: none;\n",
              "      fill: #1967D2;\n",
              "      height: 32px;\n",
              "      padding: 0 0 0 0;\n",
              "      width: 32px;\n",
              "    }\n",
              "\n",
              "    .colab-df-convert:hover {\n",
              "      background-color: #E2EBFA;\n",
              "      box-shadow: 0px 1px 2px rgba(60, 64, 67, 0.3), 0px 1px 3px 1px rgba(60, 64, 67, 0.15);\n",
              "      fill: #174EA6;\n",
              "    }\n",
              "\n",
              "    .colab-df-buttons div {\n",
              "      margin-bottom: 4px;\n",
              "    }\n",
              "\n",
              "    [theme=dark] .colab-df-convert {\n",
              "      background-color: #3B4455;\n",
              "      fill: #D2E3FC;\n",
              "    }\n",
              "\n",
              "    [theme=dark] .colab-df-convert:hover {\n",
              "      background-color: #434B5C;\n",
              "      box-shadow: 0px 1px 3px 1px rgba(0, 0, 0, 0.15);\n",
              "      filter: drop-shadow(0px 1px 2px rgba(0, 0, 0, 0.3));\n",
              "      fill: #FFFFFF;\n",
              "    }\n",
              "  </style>\n",
              "\n",
              "    <script>\n",
              "      const buttonEl =\n",
              "        document.querySelector('#df-d46819f1-ee13-4f1d-87ff-85c47f5395a2 button.colab-df-convert');\n",
              "      buttonEl.style.display =\n",
              "        google.colab.kernel.accessAllowed ? 'block' : 'none';\n",
              "\n",
              "      async function convertToInteractive(key) {\n",
              "        const element = document.querySelector('#df-d46819f1-ee13-4f1d-87ff-85c47f5395a2');\n",
              "        const dataTable =\n",
              "          await google.colab.kernel.invokeFunction('convertToInteractive',\n",
              "                                                    [key], {});\n",
              "        if (!dataTable) return;\n",
              "\n",
              "        const docLinkHtml = 'Like what you see? Visit the ' +\n",
              "          '<a target=\"_blank\" href=https://colab.research.google.com/notebooks/data_table.ipynb>data table notebook</a>'\n",
              "          + ' to learn more about interactive tables.';\n",
              "        element.innerHTML = '';\n",
              "        dataTable['output_type'] = 'display_data';\n",
              "        await google.colab.output.renderOutput(dataTable, element);\n",
              "        const docLink = document.createElement('div');\n",
              "        docLink.innerHTML = docLinkHtml;\n",
              "        element.appendChild(docLink);\n",
              "      }\n",
              "    </script>\n",
              "  </div>\n",
              "\n",
              "\n",
              "<div id=\"df-d8056624-4a53-4f6a-893a-1b57daf3f9a7\">\n",
              "  <button class=\"colab-df-quickchart\" onclick=\"quickchart('df-d8056624-4a53-4f6a-893a-1b57daf3f9a7')\"\n",
              "            title=\"Suggest charts\"\n",
              "            style=\"display:none;\">\n",
              "\n",
              "<svg xmlns=\"http://www.w3.org/2000/svg\" height=\"24px\"viewBox=\"0 0 24 24\"\n",
              "     width=\"24px\">\n",
              "    <g>\n",
              "        <path d=\"M19 3H5c-1.1 0-2 .9-2 2v14c0 1.1.9 2 2 2h14c1.1 0 2-.9 2-2V5c0-1.1-.9-2-2-2zM9 17H7v-7h2v7zm4 0h-2V7h2v10zm4 0h-2v-4h2v4z\"/>\n",
              "    </g>\n",
              "</svg>\n",
              "  </button>\n",
              "\n",
              "<style>\n",
              "  .colab-df-quickchart {\n",
              "      --bg-color: #E8F0FE;\n",
              "      --fill-color: #1967D2;\n",
              "      --hover-bg-color: #E2EBFA;\n",
              "      --hover-fill-color: #174EA6;\n",
              "      --disabled-fill-color: #AAA;\n",
              "      --disabled-bg-color: #DDD;\n",
              "  }\n",
              "\n",
              "  [theme=dark] .colab-df-quickchart {\n",
              "      --bg-color: #3B4455;\n",
              "      --fill-color: #D2E3FC;\n",
              "      --hover-bg-color: #434B5C;\n",
              "      --hover-fill-color: #FFFFFF;\n",
              "      --disabled-bg-color: #3B4455;\n",
              "      --disabled-fill-color: #666;\n",
              "  }\n",
              "\n",
              "  .colab-df-quickchart {\n",
              "    background-color: var(--bg-color);\n",
              "    border: none;\n",
              "    border-radius: 50%;\n",
              "    cursor: pointer;\n",
              "    display: none;\n",
              "    fill: var(--fill-color);\n",
              "    height: 32px;\n",
              "    padding: 0;\n",
              "    width: 32px;\n",
              "  }\n",
              "\n",
              "  .colab-df-quickchart:hover {\n",
              "    background-color: var(--hover-bg-color);\n",
              "    box-shadow: 0 1px 2px rgba(60, 64, 67, 0.3), 0 1px 3px 1px rgba(60, 64, 67, 0.15);\n",
              "    fill: var(--button-hover-fill-color);\n",
              "  }\n",
              "\n",
              "  .colab-df-quickchart-complete:disabled,\n",
              "  .colab-df-quickchart-complete:disabled:hover {\n",
              "    background-color: var(--disabled-bg-color);\n",
              "    fill: var(--disabled-fill-color);\n",
              "    box-shadow: none;\n",
              "  }\n",
              "\n",
              "  .colab-df-spinner {\n",
              "    border: 2px solid var(--fill-color);\n",
              "    border-color: transparent;\n",
              "    border-bottom-color: var(--fill-color);\n",
              "    animation:\n",
              "      spin 1s steps(1) infinite;\n",
              "  }\n",
              "\n",
              "  @keyframes spin {\n",
              "    0% {\n",
              "      border-color: transparent;\n",
              "      border-bottom-color: var(--fill-color);\n",
              "      border-left-color: var(--fill-color);\n",
              "    }\n",
              "    20% {\n",
              "      border-color: transparent;\n",
              "      border-left-color: var(--fill-color);\n",
              "      border-top-color: var(--fill-color);\n",
              "    }\n",
              "    30% {\n",
              "      border-color: transparent;\n",
              "      border-left-color: var(--fill-color);\n",
              "      border-top-color: var(--fill-color);\n",
              "      border-right-color: var(--fill-color);\n",
              "    }\n",
              "    40% {\n",
              "      border-color: transparent;\n",
              "      border-right-color: var(--fill-color);\n",
              "      border-top-color: var(--fill-color);\n",
              "    }\n",
              "    60% {\n",
              "      border-color: transparent;\n",
              "      border-right-color: var(--fill-color);\n",
              "    }\n",
              "    80% {\n",
              "      border-color: transparent;\n",
              "      border-right-color: var(--fill-color);\n",
              "      border-bottom-color: var(--fill-color);\n",
              "    }\n",
              "    90% {\n",
              "      border-color: transparent;\n",
              "      border-bottom-color: var(--fill-color);\n",
              "    }\n",
              "  }\n",
              "</style>\n",
              "\n",
              "  <script>\n",
              "    async function quickchart(key) {\n",
              "      const quickchartButtonEl =\n",
              "        document.querySelector('#' + key + ' button');\n",
              "      quickchartButtonEl.disabled = true;  // To prevent multiple clicks.\n",
              "      quickchartButtonEl.classList.add('colab-df-spinner');\n",
              "      try {\n",
              "        const charts = await google.colab.kernel.invokeFunction(\n",
              "            'suggestCharts', [key], {});\n",
              "      } catch (error) {\n",
              "        console.error('Error during call to suggestCharts:', error);\n",
              "      }\n",
              "      quickchartButtonEl.classList.remove('colab-df-spinner');\n",
              "      quickchartButtonEl.classList.add('colab-df-quickchart-complete');\n",
              "    }\n",
              "    (() => {\n",
              "      let quickchartButtonEl =\n",
              "        document.querySelector('#df-d8056624-4a53-4f6a-893a-1b57daf3f9a7 button');\n",
              "      quickchartButtonEl.style.display =\n",
              "        google.colab.kernel.accessAllowed ? 'block' : 'none';\n",
              "    })();\n",
              "  </script>\n",
              "</div>\n",
              "    </div>\n",
              "  </div>\n"
            ]
          },
          "metadata": {},
          "execution_count": 4
        }
      ]
    },
    {
      "cell_type": "code",
      "source": [
        "# Checking for null values\n",
        "print(f'Shape of the df is: {df1.shape}')\n",
        "df1.isnull().sum()"
      ],
      "metadata": {
        "id": "DseRnzETDZi5",
        "colab": {
          "base_uri": "https://localhost:8080/"
        },
        "outputId": "6f792aa2-d09d-439a-9819-a02e7ce957a6"
      },
      "execution_count": null,
      "outputs": [
        {
          "output_type": "stream",
          "name": "stdout",
          "text": [
            "Shape of the df is (216509, 22)\n"
          ]
        },
        {
          "output_type": "execute_result",
          "data": {
            "text/plain": [
              "ID                        0\n",
              "Case Number               0\n",
              "Date                      0\n",
              "Block                     0\n",
              "IUCR                      0\n",
              "Primary Type              0\n",
              "Description               0\n",
              "Location Description    956\n",
              "Arrest                    0\n",
              "Domestic                  0\n",
              "Beat                      0\n",
              "District                  0\n",
              "Ward                      3\n",
              "Community Area            0\n",
              "FBI Code                  0\n",
              "X Coordinate            162\n",
              "Y Coordinate            162\n",
              "Year                      0\n",
              "Updated On                0\n",
              "Latitude                162\n",
              "Longitude               162\n",
              "Location                162\n",
              "dtype: int64"
            ]
          },
          "metadata": {},
          "execution_count": 6
        }
      ]
    },
    {
      "cell_type": "markdown",
      "source": [
        "Getting rid of columns that i think we do not need\n",
        "\n",
        "Creating a pipeline i.e. df1->df2-> so on, so that we always have the option to go back a step.\n",
        "\n",
        "Every new change to a df is stored in a new df (we use df.copy() in some cases, or else we just use assignment.)"
      ],
      "metadata": {
        "id": "KnxbpQCn0hqs"
      }
    },
    {
      "cell_type": "code",
      "source": [
        "df2 = df1.drop(['Case Number','IUCR','Description',\n",
        "                'Beat','Ward','FBI Code',\n",
        "                'Updated On', 'District','Location'],\n",
        "                axis = 1)"
      ],
      "metadata": {
        "id": "--UHy7SrasUz"
      },
      "execution_count": null,
      "outputs": []
    },
    {
      "cell_type": "code",
      "source": [
        "df2.columns"
      ],
      "metadata": {
        "colab": {
          "base_uri": "https://localhost:8080/"
        },
        "id": "CO5IIqP7bLuL",
        "outputId": "b92327a6-c283-4c57-dc51-bf8831e174a5"
      },
      "execution_count": null,
      "outputs": [
        {
          "output_type": "execute_result",
          "data": {
            "text/plain": [
              "Index(['ID', 'Date', 'Block', 'Primary Type', 'Location Description', 'Arrest',\n",
              "       'Domestic', 'Community Area', 'X Coordinate', 'Y Coordinate', 'Year',\n",
              "       'Latitude', 'Longitude'],\n",
              "      dtype='object')"
            ]
          },
          "metadata": {},
          "execution_count": 9
        }
      ]
    },
    {
      "cell_type": "code",
      "source": [
        "print(f'Shape of the df is {df2.shape}')"
      ],
      "metadata": {
        "id": "yA7NEVK-D-54",
        "colab": {
          "base_uri": "https://localhost:8080/"
        },
        "outputId": "8a5fd9ea-0a09-4e71-a6bc-04786e7aefa6"
      },
      "execution_count": null,
      "outputs": [
        {
          "output_type": "stream",
          "name": "stdout",
          "text": [
            "Shape of the df is (216509, 13)\n"
          ]
        }
      ]
    },
    {
      "cell_type": "code",
      "source": [
        "# rename column 'Primary type' to 'Crime type'\n",
        "# rename column 'Location Description' to 'Location type' (residence, apartment, garrage, etc)"
      ],
      "metadata": {
        "id": "jycG-nIscjgh"
      },
      "execution_count": null,
      "outputs": []
    },
    {
      "cell_type": "markdown",
      "source": [
        "Renaming columns to make it easier for our understanding and also remove spaces in column names since it is not a good practice."
      ],
      "metadata": {
        "id": "M4Jjntfs1eoM"
      }
    },
    {
      "cell_type": "code",
      "source": [
        "df3 = df2.rename(columns={'Primary Type':'Crime_type', 'Location Description':'Location_type',\n",
        "                    'Community Area':'Community_area'})"
      ],
      "metadata": {
        "id": "2d2m4oJ5c0k6"
      },
      "execution_count": null,
      "outputs": []
    },
    {
      "cell_type": "code",
      "source": [
        "df3.columns"
      ],
      "metadata": {
        "colab": {
          "base_uri": "https://localhost:8080/"
        },
        "id": "a8-8cNdJ2E2B",
        "outputId": "094aa268-0181-46ca-953b-644549fbf912"
      },
      "execution_count": null,
      "outputs": [
        {
          "output_type": "execute_result",
          "data": {
            "text/plain": [
              "Index(['ID', 'Date', 'Block', 'Crime_type', 'Location_type', 'Arrest',\n",
              "       'Domestic', 'Community_area', 'X Coordinate', 'Y Coordinate', 'Year',\n",
              "       'Latitude', 'Longitude'],\n",
              "      dtype='object')"
            ]
          },
          "metadata": {},
          "execution_count": 14
        }
      ]
    },
    {
      "cell_type": "code",
      "source": [
        "# need to split date and add new column time and month if you can (or tableau can parse the date for you)"
      ],
      "metadata": {
        "id": "swi2VNSB2IBt"
      },
      "execution_count": null,
      "outputs": []
    },
    {
      "cell_type": "markdown",
      "source": [
        "Converting the 'Date' column into pandas Date datatype."
      ],
      "metadata": {
        "id": "bnOOeXDC2PB3"
      }
    },
    {
      "cell_type": "code",
      "source": [
        "df3.Date.unique()"
      ],
      "metadata": {
        "colab": {
          "base_uri": "https://localhost:8080/"
        },
        "id": "QW9_9PnY2Xne",
        "outputId": "0a24a9a6-ae54-4ad0-fb7c-5c0a87c90922"
      },
      "execution_count": null,
      "outputs": [
        {
          "output_type": "execute_result",
          "data": {
            "text/plain": [
              "array(['09/06/2023 05:00:00 PM', '08/31/2023 12:00:00 PM',\n",
              "       '07/24/2023 09:45:00 PM', ..., '07/14/2023 11:05:00 AM',\n",
              "       '07/18/2023 02:52:00 AM', '07/27/2023 04:02:00 AM'], dtype=object)"
            ]
          },
          "metadata": {},
          "execution_count": 16
        }
      ]
    },
    {
      "cell_type": "markdown",
      "source": [
        "So we have date in the format '09/06/2023 05:00:00 PM'\n",
        "we want to get rid of the merediem i.e. AM/PM.(in order to use the pd.datetime() function)\n",
        "\n",
        "so we write a function to convert our time into a 24hr clock. And apply it on our 'Date' column\n",
        "\n",
        "We do this because we have a function in pandas called:\n",
        "to_datetime() this is how it works (we are giving it our customized format):  \n",
        "\n",
        "pd.to_datetime('09/06/2023 5:00:00',\n",
        "              format='%m/%d/%Y %H:%M:%S')\n"
      ],
      "metadata": {
        "id": "fyXBiGcR-ma1"
      }
    },
    {
      "cell_type": "code",
      "source": [
        "def Time_converter_to_24hr_clock(x):\n",
        "  date_time_merediem = x.split(' ')\n",
        "\n",
        "  date = date_time_merediem[0]\n",
        "  time = date_time_merediem[1]\n",
        "  merediem = date_time_merediem[2]\n",
        "# now we have time and merediem to work with\n",
        "\n",
        "  split_time = time.split(':')\n",
        "  hours = int(split_time[0])\n",
        "  minutes = split_time[1]\n",
        "  seconds = split_time[2]\n",
        "# now we have hours and merediem to work with\n",
        "\n",
        "  if(merediem == 'AM'): # we see if we have AM\n",
        "    if(hours == 12):# we change only if its 12 AM and return 00\n",
        "      result = '00'+':'+minutes+':'+seconds\n",
        "    else:# if it is AM and not 12, we just return the same hour\n",
        "      result = str(hours)+':'+minutes+':'+seconds\n",
        "  elif (merediem == 'PM'): # we see if we have PM\n",
        "    if(hours == 12): # if it is 12 and PM we need to return 12 and not 24\n",
        "      result = '12'+':'+minutes+':'+seconds\n",
        "    else:# if it is PM and not 12, we add 12 to hours and return\n",
        "      result = str(hours+12)+':'+minutes+':'+seconds\n",
        "\n",
        "  return date+' '+result # result is gonna be 'date new_hours:old_min:old_sec'"
      ],
      "metadata": {
        "id": "HvgyTF_w3sdn"
      },
      "execution_count": null,
      "outputs": []
    },
    {
      "cell_type": "code",
      "source": [
        "df4 = df3.copy()\n",
        "df4['Date'] = df3.Date.apply(Time_converter_to_24hr_clock)\n",
        "df4['Date'] = pd.to_datetime(df4['Date'], format = '%m/%d/%Y %H:%M:%S')"
      ],
      "metadata": {
        "id": "aDRDXtPW5hBv"
      },
      "execution_count": null,
      "outputs": []
    },
    {
      "cell_type": "code",
      "source": [
        "# need to split block, try to exract only street name"
      ],
      "metadata": {
        "id": "gPgxUf8EDJUw"
      },
      "execution_count": null,
      "outputs": []
    },
    {
      "cell_type": "markdown",
      "source": [
        "'Block' column has '002XX N Wells st', so we can extract the street by removing the first token\n",
        "."
      ],
      "metadata": {
        "id": "iXliz50IHgol"
      }
    },
    {
      "cell_type": "code",
      "source": [
        "def Block_to_street_converter(x):\n",
        "  Block_split = x.split(' ')\n",
        "  Street_name = ''\n",
        "  for i in range(len(Block_split)-1):\n",
        "    Street_name = Street_name + Block_split[i+1] + ' '\n",
        "  return Street_name"
      ],
      "metadata": {
        "id": "m4vVDBlwHKub"
      },
      "execution_count": null,
      "outputs": []
    },
    {
      "cell_type": "code",
      "source": [
        "df5 = df4.copy()\n",
        "df5['Block'] = df4['Block'].apply(Block_to_street_converter)\n",
        "df5.rename(columns={'Block':'Street'}, inplace = True)"
      ],
      "metadata": {
        "id": "Y9tYU1wAJitY"
      },
      "execution_count": null,
      "outputs": []
    },
    {
      "cell_type": "code",
      "source": [
        "#lets take a look at the dtypes\n",
        "df5.dtypes"
      ],
      "metadata": {
        "colab": {
          "base_uri": "https://localhost:8080/"
        },
        "id": "Rr-1rUVKEI6S",
        "outputId": "303b6343-2dff-4035-add2-a0bda182abfc"
      },
      "execution_count": null,
      "outputs": [
        {
          "output_type": "execute_result",
          "data": {
            "text/plain": [
              "ID                         int64\n",
              "Date              datetime64[ns]\n",
              "Street                    object\n",
              "Crime_type                object\n",
              "Location_type             object\n",
              "Arrest                      bool\n",
              "Domestic                    bool\n",
              "Community_area             int64\n",
              "X Coordinate             float64\n",
              "Y Coordinate             float64\n",
              "Year                       int64\n",
              "Latitude                 float64\n",
              "Longitude                float64\n",
              "dtype: object"
            ]
          },
          "metadata": {},
          "execution_count": 23
        }
      ]
    },
    {
      "cell_type": "code",
      "source": [
        "# there were inconsistencies with the data in \"Street\" column, Same street name was\n",
        "# represented both in upper case letters and lower case letters.\n",
        "# Converting all values in the \"Street\" Column into lowecase letters to deal wiht this inconsistency.\n",
        "\n",
        "df5.Street = df5.Street.str.lower()\n",
        "matching_rows = df5[df5['Street'].str.contains('s michigan ave', case=False, na=False)]\n",
        "df5.shape"
      ],
      "metadata": {
        "colab": {
          "base_uri": "https://localhost:8080/"
        },
        "id": "PSTqugwbEfJO",
        "outputId": "dc06beb4-2f0e-4574-d386-a6d96362b24c"
      },
      "execution_count": null,
      "outputs": [
        {
          "output_type": "execute_result",
          "data": {
            "text/plain": [
              "(216509, 13)"
            ]
          },
          "metadata": {},
          "execution_count": 25
        }
      ]
    },
    {
      "cell_type": "code",
      "source": [
        "df5['Crime_type'].value_counts()"
      ],
      "metadata": {
        "colab": {
          "base_uri": "https://localhost:8080/"
        },
        "id": "zC3DAF7nP1Su",
        "outputId": "f740a9f6-19a9-49b6-e6a2-7581a0f1e61d"
      },
      "execution_count": null,
      "outputs": [
        {
          "output_type": "execute_result",
          "data": {
            "text/plain": [
              "THEFT                                46875\n",
              "BATTERY                              36950\n",
              "CRIMINAL DAMAGE                      25057\n",
              "MOTOR VEHICLE THEFT                  24597\n",
              "ASSAULT                              18906\n",
              "DECEPTIVE PRACTICE                   13330\n",
              "OTHER OFFENSE                        12788\n",
              "ROBBERY                               9031\n",
              "WEAPONS VIOLATION                     7389\n",
              "BURGLARY                              6108\n",
              "NARCOTICS                             4165\n",
              "CRIMINAL TRESPASS                     3899\n",
              "OFFENSE INVOLVING CHILDREN            1461\n",
              "CRIMINAL SEXUAL ASSAULT               1328\n",
              "SEX OFFENSE                           1126\n",
              "PUBLIC PEACE VIOLATION                 737\n",
              "HOMICIDE                               526\n",
              "INTERFERENCE WITH PUBLIC OFFICER       484\n",
              "STALKING                               425\n",
              "ARSON                                  418\n",
              "INTIMIDATION                           209\n",
              "PROSTITUTION                           197\n",
              "CONCEALED CARRY LICENSE VIOLATION      170\n",
              "LIQUOR LAW VIOLATION                   154\n",
              "KIDNAPPING                             120\n",
              "OBSCENITY                               30\n",
              "GAMBLING                                14\n",
              "HUMAN TRAFFICKING                        8\n",
              "PUBLIC INDECENCY                         3\n",
              "OTHER NARCOTIC VIOLATION                 2\n",
              "NON-CRIMINAL                             2\n",
              "Name: Crime_type, dtype: int64"
            ]
          },
          "metadata": {},
          "execution_count": 46
        }
      ]
    },
    {
      "cell_type": "code",
      "source": [
        "plt.hist(df5['Crime_type'].value_counts())"
      ],
      "metadata": {
        "id": "zvasW9FyP1FT"
      },
      "execution_count": null,
      "outputs": []
    },
    {
      "cell_type": "code",
      "source": [
        "df5.to_csv('Chicago crimes 2023 cleaned with cordinates.csv', header = True, index = True)"
      ],
      "metadata": {
        "id": "9w-Nw1coJ2hd"
      },
      "execution_count": null,
      "outputs": []
    },
    {
      "cell_type": "code",
      "source": [],
      "metadata": {
        "id": "MKgyW3-ILKCY"
      },
      "execution_count": null,
      "outputs": []
    },
    {
      "cell_type": "markdown",
      "source": [],
      "metadata": {
        "id": "lZdNyf0mAxUA"
      }
    }
  ]
}
